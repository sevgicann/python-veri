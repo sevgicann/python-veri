{
 "cells": [
  {
   "cell_type": "code",
   "execution_count": 25,
   "metadata": {},
   "outputs": [],
   "source": [
    "import requests\n",
    "from bs4 import BeautifulSoup as bs\n",
    "import pandas as pd\n",
    "\n",
    "\n",
    "stories_data = []"
   ]
  },
  {
   "cell_type": "code",
   "execution_count": 26,
   "metadata": {},
   "outputs": [
    {
     "name": "stdout",
     "output_type": "stream",
     "text": [
      "https://turkishnetworktimes.com/kategori/gundem/\n"
     ]
    }
   ],
   "source": [
    "#baslik = {\"User-Agent\": \"Mozilla/5.0 (Windows NT 10.0; Win64; x64) AppleWebKit/537.36 (KHTML, like Gecko) Chrome/119.0.0.0 Safari/537.36\"}\n",
    "\n",
    "#url = f'https://turkishnetworktimes.com/kategori/gundem/'\n",
    "#baslik = {\"User-Agent\": \"Mozilla/5.0 (Windows NT 10.0; Win64; x64) AppleWebKit/537.36 (KHTML, like Gecko) Chrome/119.0.0.0 Safari/537.36\"}\n",
    "#page=requests.get(url,headers=baslik)\n",
    "#soup=bs(page.content,features='lxml') \n",
    "url = f'https://turkishnetworktimes.com/kategori/gundem/'\n",
    "page=requests.get(url)\n",
    "soup=bs(page.text, 'html.parser')\n",
    "print(url)"
   ]
  },
  {
   "cell_type": "code",
   "execution_count": 27,
   "metadata": {},
   "outputs": [
    {
     "name": "stdout",
     "output_type": "stream",
     "text": [
      "  130 Türk vatandaşı ve aile yakını, Gazze’den Mısır’a geçtiDışişleri Bakanlığı Sözcüsü Öncü Keçeli, yaptığı yazılı açıklamada, \"130 Türk vatandaşımız ve aile yakını dün gece Gazze'den Mısır'a geçiş yaptılar. Söz konusu grubun bugün ülkemize gelmesi öngörülüyor\" ifadelerini kullandı.... Gündem  Son Güncelleme:5 Aralık 2023 00:45 \n",
      "  Evin bahçesindeki çökme sonrası Roma dönemine ait tek oda mezar bulunduKahramanmaraş merkezli depremlerinin vurduğu Gaziantep'in Nurdağı ilçesinde artçılar sürerken, bir vatandaş, 1 Aralık'ta bahçesinde çökme olduğunu belirterek, İl Jandarma Komutanlığı'na bilgi verdi. Bölgede güvenlik tedbiri alınırken, çökme... Gündem  Son Güncelleme:5 Aralık 2023 00:45 \n",
      "  Şırnak’ta 75 yaşındaki hasta, ambulans helikopterle sevk edildiİdil ilçesinde safra kesesinden rahatsızlanan Behiye Saka, İdil Devlet Hastanesi’ne kaldırıldı. Saka’nın muayenesinde, ileri tetkik ve tedavisi için tıbbi donanımlı bir hastaneye sevkine karar verildi.Talep edilen ambulans helikopter, Saka’... Gündem  Son Güncelleme:4 Aralık 2023 20:00 \n",
      "  Rize’de dalgalara kapılan kadını arama çalışmalarında 8’inci günArdeşen ilçesinde yaşayan Zeynep Bekar, 27 Kasım'da odun toplamak için gittiği sahilde fırtına nedeniyle oluşan dalgalara kapılıp, kayboldu. Evine dönmeyen Bekar için ailesi kayıp başvurusunda bulundu. AFAD ve polis ekipleri, bölgede çalışm... Gündem  Son Güncelleme:4 Aralık 2023 18:30 \n",
      "  Diyarbakır’da muhtar başından vurulmuş olarak ölü bulunduOlay, gece saatlerinde Çermik ilçesi kırsal Şeyhandede Mahallesi'nde meydana geldi. İddiaya göre; muhtar Yılmaz Koca, hayvanlarına yem vermek için evinin yakınındaki yem çadırına gitti. Muhtarın eve dönmediğini fark eden eşi, çadıra gittiği... Gündem  Son Güncelleme:4 Aralık 2023 18:30 \n",
      "  Kartal’da otobüste 2 yolcu arasındaki kavga kameradaOlay saat 08.00 sıralarında Kartal Köprüsü'nde meydana geldi. İddiaya göre İETT otobüsünde yolculuk yapan 2 kadın yolcu arasında bilinmeyen bir nedenle tartışma çıktı. Tartışmanın büyümesinin ardından otobüs durağa yanaştı. Yolcuların bir k... Gündem  Son Güncelleme:4 Aralık 2023 18:30 \n",
      "  Referandumla köyün mahallesi, belediye sınırlarına geçtiAğaççılar köyü Beyaz İnci Mahallesi'nde yaşayan vatandaşlar, Bolu Belediyesi sınırlarına girebilmek için başvuru yaptı. Başvurunun ardından Merkez İlçe Seçim Kurulu referandum yapılmasına karar verdi. 561 seçmenin bulunduğu mahallede 139 ki... Gündem  Son Güncelleme:4 Aralık 2023 17:45 \n",
      "  4 gündür kayıp Damla’nın denizde cansız bedeni bulunduAntalya'da yaşayan Damla Durgun, 30 Kasım akşamı evden ayrıldıktan sonra bir daha dönmedi. Kızlarından haber alamayan aile, emniyet güçlerine kayıp başvurusunda bulundu. İhbarın ardından AFAD, Sahil Güvenlik, polis ve jandarma ekipleri tara... Gündem  Son Güncelleme:4 Aralık 2023 16:30 \n",
      "  Avcılar’da tencere alev aldı, mutfakta yangın çıktıYangın, Tahtakale Mahallesi'ndeki bir sitedeki yemek fabrikasında meydana geldi. Ocaktaki tencerede kızartma yapan bir çalışan, kapağı kapayıp ayrıldı. Bir süre sonra tencereden önce dumanlar yükseldi ardından tencere alev aldı. İhbar üzeri... Gündem  Son Güncelleme:4 Aralık 2023 16:30 \n",
      "  Dünya İklim Eylem Zirvesi’nden karelerCumhurbaşkanı Erdoğan Dubai'de Brezilya Cumhurbaşkanı Luiz Lula da Silva, İspanya Başbakanı Pedro Sanchez, Hindistan Başbakanı Narendra Modi ve Azerbaycan Cumhurbaşkanı İlham Aliyev ile ayaküstü görüşerek sohbet etti.... Dünya  Son Güncelleme:4 Aralık 2023 15:00 \n"
     ]
    }
   ],
   "source": [
    "\n",
    "stories = soup.find_all('article', {'class':'col-12'})\n",
    "for stor in stories:\n",
    "  print(stor.text)"
   ]
  },
  {
   "cell_type": "code",
   "execution_count": 28,
   "metadata": {},
   "outputs": [
    {
     "name": "stdout",
     "output_type": "stream",
     "text": [
      "https://turkishnetworktimes.com/130-turk-vatandasi-ve-aile-yakini-gazzeden-misira-gecti/\n",
      "https://turkishnetworktimes.com/evin-bahcesindeki-cokme-sonrasi-roma-donemine-ait-tek-oda-mezar-bulundu/\n",
      "https://turkishnetworktimes.com/sirnakta-75-yasindaki-hasta-ambulans-helikopterle-sevk-edildi/\n",
      "https://turkishnetworktimes.com/rizede-dalgalara-kapilan-kadini-arama-calismalarinda-8inci-gun/\n",
      "https://turkishnetworktimes.com/diyarbakirda-muhtar-basindan-vurulmus-olarak-olu-bulundu/\n",
      "https://turkishnetworktimes.com/kartalda-otobuste-2-yolcu-arasindaki-kavga-kamerada/\n",
      "https://turkishnetworktimes.com/referandumla-koyun-mahallesi-belediye-sinirlarina-gecti/\n",
      "https://turkishnetworktimes.com/4-gundur-kayip-damlanin-denizde-cansiz-bedeni-bulundu/\n",
      "https://turkishnetworktimes.com/avcilarda-tencere-alev-aldi-mutfakta-yangin-cikti/\n",
      "https://turkishnetworktimes.com/dunya-iklim-eylem-zirvesinden-kareler/\n"
     ]
    }
   ],
   "source": [
    "for story in stories:\n",
    "    each_story = []\n",
    "\n",
    "    kategori_box=story.find('span', class_='catalani').text\n",
    "    #print(kategori_box.text)\n",
    "\n",
    "    try:\n",
    "        update_date=story.find('span',class_='tarih').text\n",
    "        #print(update_date)\n",
    "        header=story.find('h2',class_='haber-baslik').text\n",
    "        #print(header)\n",
    "        summary=story.find('div',class_='haber-desc').text\n",
    "        #print(summary)\n",
    "        \n",
    "    except:\n",
    "        continue\n",
    "\n",
    "    story_url = story.find('a', class_='post-link')['href']\n",
    "    print(story_url)\n",
    "\n",
    "    \n",
    "\n",
    "\n",
    "\n"
   ]
  },
  {
   "cell_type": "code",
   "execution_count": 29,
   "metadata": {},
   "outputs": [
    {
     "name": "stdout",
     "output_type": "stream",
     "text": [
      "[<div class=\"post_line\"><h1 class=\"single_title\"> Dünya İklim Eylem Zirvesi’nden kareler</h1><h2 class=\"single_excerpt\"><p>Cumhurbaşkanı Erdoğan Dubai’de Brezilya Cumhurbaşkanı Luiz Lula da Silva, İspanya Başbakanı Pedro Sanchez, Hindistan Başbakanı Narendra Modi ve Azerbaycan Cumhurbaşkanı İlham Aliyev ile ayaküstü görüşerek sohbet etti.</p></h2> <i class=\"\"></i><img alt=\"Dünya İklim Eylem Zirvesi’nden kareler\" class=\"onresim wp-post-image\" data-lazyloaded=\"1\" data-src=\"https://turkishnetworktimes.com/wp-content/uploads/2023/12/dunya-iklim-eylem-zirvesinden-kareler-56928.jpg\" decoding=\"async\" height=\"450\" itemprop=\"image\" src=\"data:image/svg+xml;base64,PHN2ZyB4bWxucz0iaHR0cDovL3d3dy53My5vcmcvMjAwMC9zdmciIHdpZHRoPSI4MDAiIGhlaWdodD0iNDUwIiB2aWV3Qm94PSIwIDAgODAwIDQ1MCI+PHJlY3Qgd2lkdGg9IjEwMCUiIGhlaWdodD0iMTAwJSIgc3R5bGU9ImZpbGw6I2NmZDRkYjtmaWxsLW9wYWNpdHk6IDAuMTsiLz48L3N2Zz4=\" width=\"800\"/><div class=\"yazibio\"> <span> <span class=\"tarih\">Yayınlanma:<time datetime=\"2023-12-4\">4 Aralık 2023 - 15:00</time></span> <span class=\"tarih\">Güncelleme:<time datetime=\"2023-12-4\">4 Aralık 2023 - 15:00</time></span></span> <span class=\"yazi_paylas\"> <a class=\"facebook\" data-href=\"//www.facebook.com/share.php?u=https%3A%2F%2Fturkishnetworktimes.com%2Fdunya-iklim-eylem-zirvesinden-kareler%2F\" href=\"#\"><i class=\"icon-facebook\"></i> </a> <a class=\"twitter\" data-href=\"//twitter.com/share?url=https%3A%2F%2Fturkishnetworktimes.com%2Fdunya-iklim-eylem-zirvesinden-kareler%2F&amp;text=Dünya İklim Eylem Zirvesi’nden kareler\" href=\"#\"><i class=\"icon-twitter\"></i> </a> <a class=\"pinterest\" data-href=\"//pinterest.com/pin/create/button/?url=https%3A%2F%2Fturkishnetworktimes.com%2Fdunya-iklim-eylem-zirvesinden-kareler%2F&amp;media=https://turkishnetworktimes.com/wp-content/uploads/2023/12/dunya-iklim-eylem-zirvesinden-kareler-56928.jpg&amp;description=Dünya İklim Eylem Zirvesi’nden kareler\" href=\"#\"><i class=\"icon-pinterest\"></i> </a> <a class=\"linkedin\" data-href=\"//www.linkedin.com/shareArticle?mini=true&amp;url=https%3A%2F%2Fturkishnetworktimes.com%2Fdunya-iklim-eylem-zirvesinden-kareler%2F\" href=\"#\" title=\"linkedin\"><i class=\"icon-linkedin\"></i></a> <a class=\"whatsapp\" data-href=\"//web.whatsapp.com/send?text=Dünya İklim Eylem Zirvesi’nden kareler https://turkishnetworktimes.com/dunya-iklim-eylem-zirvesinden-kareler/\" href=\"#\" target=\"_blank\"><i class=\"icon-whatsapp\"></i> </a> </span></div><div class=\"col-12\"></div><div class=\"yazi_icerik\"><p><span class=\"category-name hidden\"></span></p><p><a class=\"inline-keyword from-service\" href=\"javascript:void(0)\">Cumhurbaşkanı Erdoğan</a> Dubai’de Brezilya Cumhurbaşkanı Luiz Lula da Silva, İspanya Başbakanı Pedro Sanchez, Hindistan Başbakanı Narendra Modi ve Azerbaycan Cumhurbaşkanı İlham Aliyev ile ayaküstü görüşerek sohbet etti.</p><div style=\"width:100%\"><div class=\"nd-dfp-wrapper\"><div class=\"adRenderer dfp\" data-device-type=\"desktop\" id=\"9927946,22675483042/dha/diger/body_300x250_1\"></div><div class=\"adRenderer dfp\" data-device-type=\"desktop\" id=\"9927946,22675483042/dha/diger/body_300x250_1_a\"></div></div><div><div class=\"adRenderer dfp\" data-device-type=\"mobile\" id=\"9927946,22675483042/dha_mobilsite/diger/haberici_300x250_1\"></div></div></div><figure class=\"rhd-article-news-img-wrapper\"><div class=\"rhd-relative-container\"><a class=\"rhd-article-news-img-link nd-article__content-link\" data-google-interstitial=\"false\" data-origin-url=\"https://image.dha.com.tr/i/dha/75/0x0/6569da68470a9b0b603253dd.jpg\" href=\"javascript:void(0)\" rel=\"nofollow\"><img alt=\"Dünya İklim Eylem Zirvesi’nden kareler\" class=\"rhd-article-news-img\" data-inline-image=\"true\" data-src=\"https://image.dha.com.tr/i/dha/75/770x0/6569da68470a9b0b603253dd.jpg\" decoding=\"async\" src=\"https://image.dha.com.tr/i/dha/75/770x0/6569da68470a9b0b603253dd.jpg\"/><div class=\"rhd-badge-photo-indicator\"><i aria-hidden=\"true\" class=\"fa fa-search-plus\"></i></div><p></p></a></div><figcaption class=\"rhd-article-news-img-caption\"></figcaption></figure><p></p><figure class=\"rhd-article-news-img-wrapper\"><div class=\"rhd-relative-container\"><a class=\"rhd-article-news-img-link nd-article__content-link\" data-google-interstitial=\"false\" data-origin-url=\"https://image.dha.com.tr/i/dha/75/0x0/6569da68470a9b253497911c.jpg\" href=\"javascript:void(0)\" rel=\"nofollow\"><img alt=\"Dünya İklim Eylem Zirvesi’nden kareler\" class=\"rhd-article-news-img\" data-inline-image=\"true\" data-src=\"https://image.dha.com.tr/i/dha/75/770x0/6569da68470a9b253497911c.jpg\" decoding=\"async\" src=\"https://image.dha.com.tr/i/dha/75/770x0/6569da68470a9b253497911c.jpg\"/><div class=\"rhd-badge-photo-indicator\"><i aria-hidden=\"true\" class=\"fa fa-search-plus\"></i></div><p></p></a></div><figcaption class=\"rhd-article-news-img-caption\"></figcaption></figure><p></p><figure class=\"rhd-article-news-img-wrapper\"><div class=\"rhd-relative-container\"><a class=\"rhd-article-news-img-link nd-article__content-link\" data-google-interstitial=\"false\" data-origin-url=\"https://image.dha.com.tr/i/dha/75/0x0/6569da68470a9b2aec54b203.jpg\" href=\"javascript:void(0)\" rel=\"nofollow\"><img alt=\"Dünya İklim Eylem Zirvesi’nden kareler\" class=\"rhd-article-news-img\" data-inline-image=\"true\" data-src=\"https://image.dha.com.tr/i/dha/75/770x0/6569da68470a9b2aec54b203.jpg\" decoding=\"async\" src=\"https://image.dha.com.tr/i/dha/75/770x0/6569da68470a9b2aec54b203.jpg\"/><div class=\"rhd-badge-photo-indicator\"><i aria-hidden=\"true\" class=\"fa fa-search-plus\"></i></div><p></p></a></div><figcaption class=\"rhd-article-news-img-caption\"></figcaption></figure></div></div>]\n"
     ]
    }
   ],
   "source": [
    "#Burada Burada tüm metinlerin html'siz gelmesini istiyorum\n",
    "story_page=requests.get(story_url)\n",
    "story_soup=bs(story_page.text, 'html.parser')\n",
    "\n",
    "\n",
    "sections=story_soup.find_all('div',class_='post_line')\n",
    "print(sections)\n",
    "section_text=[]\n",
    "section_titles=[]\n"
   ]
  },
  {
   "cell_type": "code",
   "execution_count": 30,
   "metadata": {},
   "outputs": [
    {
     "name": "stdout",
     "output_type": "stream",
     "text": [
      "0\n"
     ]
    }
   ],
   "source": [
    "for section in sections:\n",
    "    paragraphs = section.find_all('p')\n",
    "    \n",
    "    for paragraph in paragraphs:\n",
    "        section_text.append(paragraph.text)\n",
    "\n",
    "    subs = section.find_all('haber-baslik')\n",
    "    for sub in subs:\n",
    "        section_titles.append(sub.text)\n",
    "\n",
    "number_sections = len(section_titles)\n",
    "number_paragraphs = len(section_text)\n",
    "print(number_sections)"
   ]
  },
  {
   "cell_type": "code",
   "execution_count": 31,
   "metadata": {},
   "outputs": [],
   "source": [
    "each_story.append(kategori_box)\n",
    "each_story.append(header)\n",
    "each_story.append(summary)\n",
    "each_story.append(update_date)\n",
    "each_story.append(story_url)\n",
    "each_story.append(number_sections)\n",
    "each_story.append(section_titles)\n",
    "each_story.append(number_paragraphs)\n",
    "each_story.append(section_text)\n",
    "each_story.append(stor)\n",
    "\n",
    "stories_data.append(each_story)"
   ]
  },
  {
   "cell_type": "code",
   "execution_count": 32,
   "metadata": {},
   "outputs": [],
   "source": [
    "columns = ['kategori_box', 'header', 'summary', 'update_date', 'story_url', \n",
    "           'number_sections', 'section_titles', 'number_paragraphs', \n",
    "           \n",
    "           'section_text','stor']\n",
    "\n",
    "df = pd.DataFrame(stories_data, columns=columns)\n",
    "df.to_csv('8.csv', sep='\\t', index=False)"
   ]
  }
 ],
 "metadata": {
  "kernelspec": {
   "display_name": "base",
   "language": "python",
   "name": "python3"
  },
  "language_info": {
   "codemirror_mode": {
    "name": "ipython",
    "version": 3
   },
   "file_extension": ".py",
   "mimetype": "text/x-python",
   "name": "python",
   "nbconvert_exporter": "python",
   "pygments_lexer": "ipython3",
   "version": "3.9.13"
  }
 },
 "nbformat": 4,
 "nbformat_minor": 2
}
