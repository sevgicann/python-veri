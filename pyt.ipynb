{
 "cells": [
  {
   "cell_type": "code",
   "execution_count": 114,
   "metadata": {},
   "outputs": [],
   "source": [
    "import requests\n",
    "from bs4 import BeautifulSoup as bs\n",
    "import pandas as pd\n",
    "\n",
    "\n",
    "stories_data = []"
   ]
  },
  {
   "cell_type": "code",
   "execution_count": 115,
   "metadata": {},
   "outputs": [
    {
     "name": "stdout",
     "output_type": "stream",
     "text": [
      "https://turkishnetworktimes.com/kategori/gundem/\n"
     ]
    }
   ],
   "source": [
    "baslik = {\"User-Agent\": \"Mozilla/5.0 (Windows NT 10.0; Win64; x64) AppleWebKit/537.36 (KHTML, like Gecko) Chrome/119.0.0.0 Safari/537.36\"}\n",
    "\n",
    "url = f'https://turkishnetworktimes.com/kategori/gundem/'\n",
    "baslik = {\"User-Agent\": \"Mozilla/5.0 (Windows NT 10.0; Win64; x64) AppleWebKit/537.36 (KHTML, like Gecko) Chrome/119.0.0.0 Safari/537.36\"}\n",
    "page=requests.get(url,headers=baslik)\n",
    "soup=bs(page.content,features='lxml')\n",
    "\n",
    "\n",
    "print(url)"
   ]
  },
  {
   "cell_type": "code",
   "execution_count": 117,
   "metadata": {},
   "outputs": [
    {
     "name": "stdout",
     "output_type": "stream",
     "text": [
      "  Arkadaşlarının yanına giderken, yolcu otobüsünün çarpmasıyla öldüKaza, saat 02.00 sıralarında  Avanos ilçesi yakınlarında meydana geldi. Rabia Kepenek, 50 ACR 443 plakalı otomobiliyle Avanos ilçesine gitmek için yola çıktı. İddiaya göre. Kepenek kendisini telefonla arayan arkadaşlarıyla buluşmak için ara... Gündem  Son Güncelleme:4 Aralık 2023 14:30 \n",
      "  Eski Diyanet İşleri Başkanı Lütfi Doğan, hayatını kaybettiBaşkent Üniversitesi Ankara Hastanesi'nde çeşitli sağlık sorunları nedeniyle tedavi gören Lütfü Doğan, bugün sabah yaşamını yitirdi. Doğan'ın cenazesinin, yarın öğle namazı sonrası Süleymaniye Camii'nde kılınacak namazın ardından caminin ha... Gündem  Son Güncelleme:4 Aralık 2023 14:30 \n",
      "  Eminönü’nde iş yeri alev alev yandıYangın, Mercan Mahallesi Yavaşça Şahin Sokakta saat 10.00 sıralarında 6 katlı binanın giriş katındaki saç tokası satan iş yerinde bilinmeyen bir nedenle yangın çıktı. İş yerindeki alevler kısa sürede büyüdü ve bütün dükkanı sardı.Alevleri g... Gündem  Son Güncelleme:4 Aralık 2023 14:30 \n",
      "  MSB: 5 PKK’lı terörist etkisiz hale getirildiBakanlığın sosyal medya hesabından yapılan açıklamada, \"Kahraman Türk Silahlı Kuvvetlerimiz, terör yuvalarını güçlü şekilde vurmaya devam ediyor. Pençe-Kilit Operasyonu bölgesinde tespit edilen 5 PKK'lı terörist, Hava Kuvvetlerimiz tarafınd... Gündem  Son Güncelleme:4 Aralık 2023 14:30 \n",
      "  Seçil Erzan’ın ifadelerinde adı geçen meclis üyesi, görevinden ve partisinden istifa ettiÜnlü futbolcularının da aralarında olduğu çok sayıda kişiyi milyonlarca dolar dolandırdığı gerekçesiyle tutuklanan banka müdürü Seçil Erzan'ın memleketi Tekirdağ'ın Çorlu ilçesinde, olaya ilişkin gelişmeler sürüyor. Soruşturma kapsamında Er... Gündem  Son Güncelleme:4 Aralık 2023 14:30 \n",
      "  Maraş tarhanası ve Edremit Körfezi yeşil çizik zeytinine, AB Coğrafi İşaret TesciliBakanlıktan yapılan açıklamada, 3 ay önce AB Resmi Gazetesi'nde yayımlanan Maraş tarhanası ve Edremit Körfezi yeşil çizik zeytininin, itiraz süreçlerinin sona ermesinin ardından AB Coğrafi İşaret Tescili'ne hak kazandığı belirtildi. Yüksek ... Gündem  Son Güncelleme:4 Aralık 2023 14:30 \n",
      "  Kadıköy’de güvenlik önlemi almadan çalışan işçi kameradaOlay Söğütlüçeşme Caddesi’ndeki 6 katlı bir binada yaşandı. Bir işçi binanın en üst katındaki dairenin dış cephesine hiçbir güvenlik önlemi almadan çıktı. Metrelerce yükseklikte tehlikeye aldırış etmeyen işçi klima tamiri yaptı. Dairenin iç... Gündem  Son Güncelleme:4 Aralık 2023 11:45 \n",
      "  Sarıyer’de güzellik merkezine silahlı saldırının nedeni ‘ruhsat parası’ çıktı İlgili Haber  Sarıyer'de güzellik merkezine silahlı saldırı Olay 1 Aralık Cuma günü Tarabya Mahallesi Tarabya Bayırı Caddesi üzerinde bulunan ve güzellik merkezinde meydana geldi. İddiaya göre, A.Ç. yeni açılan güzellik merkezine ... Gündem  Son Güncelleme:4 Aralık 2023 11:45 \n",
      "  Fatih Sultan Mehmet Köprüsü çıkışında otomobil alev alev yandıYangın, saat 21.30 sıralarında Fatih Sultan Mehmet Köprüsü (FSM) çıkışında Ankara istikametinde meydana geldi. Otomobilin motor kısmından dumanların çıktığını gören sürücü, emniyet şeridine girerek otomobilden indi. Otomobilin motor kısmınd... Gündem  Son Güncelleme:4 Aralık 2023 11:00 \n",
      "  Kadıköy’de trafik magandasına cezaKadıköy'de D-100 Karayolu Göztepe mevkiinde makas atarak ilerleyen sürücü, görüntülerin sosyal medyada paylaşılmasının ardından polis ekipleri tarafından yapılan çalışma sonucunda yakalandı. A.T.'ye, \"Makas atmak\" maddesinden 4 bin 64 lira,... Gündem  Son Güncelleme:4 Aralık 2023 11:00 \n"
     ]
    }
   ],
   "source": [
    "\n",
    "stories = soup.find_all('article', {'class':'col-12'})\n",
    "for stor in stories:\n",
    "  print(stor.text)"
   ]
  },
  {
   "cell_type": "code",
   "execution_count": 112,
   "metadata": {},
   "outputs": [
    {
     "name": "stdout",
     "output_type": "stream",
     "text": [
      "https://turkishnetworktimes.com/arkadaslarinin-yanina-giderken-yolcu-otobusunun-carpmasiyla-oldu/\n",
      "https://turkishnetworktimes.com/eski-diyanet-isleri-baskani-lutfi-dogan-hayatini-kaybetti/\n",
      "https://turkishnetworktimes.com/eminonunde-is-yeri-alev-alev-yandi/\n",
      "https://turkishnetworktimes.com/msb-5-pkkli-terorist-etkisiz-hale-getirildi/\n",
      "https://turkishnetworktimes.com/secil-erzanin-ifadelerinde-adi-gecen-meclis-uyesi-gorevinden-ve-partisinden-istifa-etti/\n",
      "https://turkishnetworktimes.com/maras-tarhanasi-ve-edremit-korfezi-yesil-cizik-zeytinine-ab-cografi-isaret-tescili/\n",
      "https://turkishnetworktimes.com/kadikoyde-guvenlik-onlemi-almadan-calisan-isci-kamerada/\n",
      "https://turkishnetworktimes.com/sariyerde-guzellik-merkezine-silahli-saldirinin-nedeni-ruhsat-parasi-cikti/\n",
      "https://turkishnetworktimes.com/fatih-sultan-mehmet-koprusu-cikisinda-otomobil-alev-alev-yandi/\n",
      "https://turkishnetworktimes.com/kadikoyde-trafik-magandasina-ceza/\n"
     ]
    }
   ],
   "source": [
    "for story in stories:\n",
    "    each_story = []\n",
    "\n",
    "    kategori_box=story.find('span', class_='catalani')\n",
    "    #print(kategori_box.text)\n",
    "\n",
    "    try:\n",
    "        update_date=story.find('span',class_='tarih').text\n",
    "        #print(update_date)\n",
    "        header=story.find('h2',class_='haber-baslik').text\n",
    "        #print(header)\n",
    "        summary=story.find('div',class_='haber-desc').text\n",
    "        #print(summary)\n",
    "        \n",
    "    except:\n",
    "        continue\n",
    "\n",
    "    story_url = story.find('a', class_='post-link')['href']\n",
    "    print(story_url)\n",
    "\n",
    "    \n",
    "\n",
    "\n",
    "\n"
   ]
  },
  {
   "cell_type": "code",
   "execution_count": 106,
   "metadata": {},
   "outputs": [
    {
     "name": "stdout",
     "output_type": "stream",
     "text": [
      "[<div class=\"col-12 col-lg-8\"><div class=\"post_line\"><h1 class=\"single_title\"> Kadıköy’de trafik magandasına ceza</h1><h2 class=\"single_excerpt\"><p>Kadıköy‘de D-100 Karayolu Göztepe mevkiinde makas atarak ilerleyen sürücü, görüntülerin sosyal medyada paylaşılmasının ardından polis ekipleri tarafından yapılan çalışma sonucunda yakalandı. A.T.’ye, “Makas atmak” maddesinden 4 bin 64 lira, “Saygısızca..</p></h2> <i class=\"\"></i><img alt=\"Kadıköy’de trafik magandasına ceza\" class=\"onresim wp-post-image\" data-lazyloaded=\"1\" data-src=\"https://turkishnetworktimes.com/wp-content/uploads/2023/12/kadikoyde-trafik-magandasina-ceza-6204.jpg\" decoding=\"async\" height=\"450\" itemprop=\"image\" src=\"data:image/svg+xml;base64,PHN2ZyB4bWxucz0iaHR0cDovL3d3dy53My5vcmcvMjAwMC9zdmciIHdpZHRoPSI4MDAiIGhlaWdodD0iNDUwIiB2aWV3Qm94PSIwIDAgODAwIDQ1MCI+PHJlY3Qgd2lkdGg9IjEwMCUiIGhlaWdodD0iMTAwJSIgc3R5bGU9ImZpbGw6I2NmZDRkYjtmaWxsLW9wYWNpdHk6IDAuMTsiLz48L3N2Zz4=\" width=\"800\"/><div class=\"yazibio\"> <span> <span class=\"tarih\">Yayınlanma:<time datetime=\"2023-12-4\">4 Aralık 2023 - 11:00</time></span> <span class=\"tarih\">Güncelleme:<time datetime=\"2023-12-4\">4 Aralık 2023 - 11:00</time></span></span> <span class=\"yazi_paylas\"> <a class=\"facebook\" data-href=\"//www.facebook.com/share.php?u=https%3A%2F%2Fturkishnetworktimes.com%2Fkadikoyde-trafik-magandasina-ceza%2F\" href=\"#\"><i class=\"icon-facebook\"></i> </a> <a class=\"twitter\" data-href=\"//twitter.com/share?url=https%3A%2F%2Fturkishnetworktimes.com%2Fkadikoyde-trafik-magandasina-ceza%2F&amp;text=Kadıköy’de trafik magandasına ceza\" href=\"#\"><i class=\"icon-twitter\"></i> </a> <a class=\"pinterest\" data-href=\"//pinterest.com/pin/create/button/?url=https%3A%2F%2Fturkishnetworktimes.com%2Fkadikoyde-trafik-magandasina-ceza%2F&amp;media=https://turkishnetworktimes.com/wp-content/uploads/2023/12/kadikoyde-trafik-magandasina-ceza-6204.jpg&amp;description=Kadıköy’de trafik magandasına ceza\" href=\"#\"><i class=\"icon-pinterest\"></i> </a> <a class=\"linkedin\" data-href=\"//www.linkedin.com/shareArticle?mini=true&amp;url=https%3A%2F%2Fturkishnetworktimes.com%2Fkadikoyde-trafik-magandasina-ceza%2F\" href=\"#\" title=\"linkedin\"><i class=\"icon-linkedin\"></i></a> <a class=\"whatsapp\" data-href=\"//web.whatsapp.com/send?text=Kadıköy’de trafik magandasına ceza https://turkishnetworktimes.com/kadikoyde-trafik-magandasina-ceza/\" href=\"#\" target=\"_blank\"><i class=\"icon-whatsapp\"></i> </a> </span></div><div class=\"col-12\"></div><div class=\"yazi_icerik\"><p><span class=\"category-name hidden\"></span></p><p><a class=\"inline-keyword from-service\" href=\"javascript:void(0)\">Kadıköy</a>‘de D-100 Karayolu Göztepe mevkiinde makas atarak ilerleyen sürücü, görüntülerin sosyal medyada paylaşılmasının ardından polis ekipleri tarafından yapılan çalışma sonucunda yakalandı. A.T.’ye, “Makas atmak” maddesinden 4 bin 64 lira, “Saygısızca araç kullanmakö maddesinden 436 lira makas “Yakın Takipö  maddesinden 436 lira suçundan toplamda 4 bin 936 lira para cezası uygulandı. A.T’ye ayrıca, <a class=\"inline-keyword from-service\" href=\"javascript:void(0)\">trafik</a> güvenliğini tehlikeye sokmaktan da işlem yapıldı.</p><div style=\"width:100%\"><div class=\"nd-dfp-wrapper\"><div class=\"adRenderer dfp\" data-device-type=\"desktop\" id=\"9927946,22675483042/dha/diger/body_300x250_1\"></div><div class=\"adRenderer dfp\" data-device-type=\"desktop\" id=\"9927946,22675483042/dha/diger/body_300x250_1_a\"></div></div><div><div class=\"adRenderer dfp\" data-device-type=\"mobile\" id=\"9927946,22675483042/dha_mobilsite/diger/haberici_300x250_1\"></div></div></div></div></div></div>]\n"
     ]
    }
   ],
   "source": [
    "story_page=requests.get(story_url)\n",
    "story_soup=bs(story_page.text, 'html.parser')\n",
    "\n",
    "\n",
    "\n",
    "sections=story_soup.find_all('div',class_='col-12 col-lg-8')\n",
    "print(sections)\n",
    "section_text=[]\n",
    "section_titles=[]\n"
   ]
  },
  {
   "cell_type": "code",
   "execution_count": 107,
   "metadata": {},
   "outputs": [
    {
     "name": "stdout",
     "output_type": "stream",
     "text": [
      "0\n"
     ]
    }
   ],
   "source": [
    "for section in sections:\n",
    "    paragraphs = section.find_all('p')\n",
    "    \n",
    "    for paragraph in paragraphs:\n",
    "        section_text.append(paragraph.text)\n",
    "\n",
    "    subs = section.find_all('haber-baslik')\n",
    "    for sub in subs:\n",
    "        section_titles.append(sub.text)\n",
    "\n",
    "number_sections = len(section_titles)\n",
    "number_paragraphs = len(section_text)\n",
    "print(number_sections)"
   ]
  },
  {
   "cell_type": "code",
   "execution_count": 108,
   "metadata": {},
   "outputs": [],
   "source": [
    "each_story.append(kategori_box)\n",
    "each_story.append(header)\n",
    "each_story.append(summary)\n",
    "each_story.append(update_date)\n",
    "each_story.append(story_url)\n",
    "each_story.append(number_sections)\n",
    "each_story.append(section_titles)\n",
    "each_story.append(number_paragraphs)\n",
    "each_story.append(section_text)\n",
    "each_story.append(stor)\n",
    "\n",
    "stories_data.append(each_story)"
   ]
  },
  {
   "cell_type": "code",
   "execution_count": 109,
   "metadata": {},
   "outputs": [],
   "source": [
    "columns = ['kategori_box', 'header', 'summary', 'update_date', 'story_url', \n",
    "           'number_sections', 'section_titles', 'number_paragraphs', \n",
    "           \n",
    "           'section_text','stor']\n",
    "\n",
    "df = pd.DataFrame(stories_data, columns=columns)\n",
    "df.to_csv('6.csv', sep='\\t', index=False)"
   ]
  }
 ],
 "metadata": {
  "kernelspec": {
   "display_name": "base",
   "language": "python",
   "name": "python3"
  },
  "language_info": {
   "name": "python",
   "version": "3.9.13"
  }
 },
 "nbformat": 4,
 "nbformat_minor": 2
}
