{
 "cells": [
  {
   "cell_type": "code",
   "execution_count": 31,
   "metadata": {},
   "outputs": [],
   "source": [
    "import requests\n",
    "from bs4 import BeautifulSoup as bs\n",
    "import pandas as pd\n",
    "\n",
    "\n",
    "stories_data = []"
   ]
  },
  {
   "cell_type": "code",
   "execution_count": 32,
   "metadata": {},
   "outputs": [
    {
     "name": "stdout",
     "output_type": "stream",
     "text": [
      "https://turkishnetworktimes.com/kategori/gundem/\n"
     ]
    }
   ],
   "source": [
    "baslik = {\"User-Agent\": \"Mozilla/5.0 (Windows NT 10.0; Win64; x64) AppleWebKit/537.36 (KHTML, like Gecko) Chrome/119.0.0.0 Safari/537.36\"}\n",
    "\n",
    "url = f'https://turkishnetworktimes.com/kategori/gundem/'\n",
    "baslik = {\"User-Agent\": \"Mozilla/5.0 (Windows NT 10.0; Win64; x64) AppleWebKit/537.36 (KHTML, like Gecko) Chrome/119.0.0.0 Safari/537.36\"}\n",
    "page=requests.get(url,headers=baslik)\n",
    "soup=bs(page.content,features='lxml')\n",
    "\n",
    "\n",
    "print(url)"
   ]
  },
  {
   "cell_type": "code",
   "execution_count": 51,
   "metadata": {},
   "outputs": [
    {
     "name": "stdout",
     "output_type": "stream",
     "text": [
      "  Eski Diyanet İşleri Başkanı Lütfi Doğan, hayatını kaybettiBaşkent Üniversitesi Ankara Hastanesi'nde çeşitli sağlık sorunları nedeniyle tedavi gören Lütfü Doğan, bugün sabah yaşamını yitirdi. Doğan'ın cenazesinin, yarın öğle namazı sonrası Süleymaniye Camii'nde kılınacak namazın ardından caminin ha... Gündem  Son Güncelleme:4 Aralık 2023 14:30 \n",
      "  Eminönü’nde iş yeri alev alev yandıYangın, Mercan Mahallesi Yavaşça Şahin Sokakta saat 10.00 sıralarında 6 katlı binanın giriş katındaki saç tokası satan iş yerinde bilinmeyen bir nedenle yangın çıktı. İş yerindeki alevler kısa sürede büyüdü ve bütün dükkanı sardı.Alevleri g... Gündem  Son Güncelleme:4 Aralık 2023 14:30 \n",
      "  MSB: 5 PKK’lı terörist etkisiz hale getirildiBakanlığın sosyal medya hesabından yapılan açıklamada, \"Kahraman Türk Silahlı Kuvvetlerimiz, terör yuvalarını güçlü şekilde vurmaya devam ediyor. Pençe-Kilit Operasyonu bölgesinde tespit edilen 5 PKK'lı terörist, Hava Kuvvetlerimiz tarafınd... Gündem  Son Güncelleme:4 Aralık 2023 14:30 \n",
      "  Seçil Erzan’ın ifadelerinde adı geçen meclis üyesi, görevinden ve partisinden istifa ettiÜnlü futbolcularının da aralarında olduğu çok sayıda kişiyi milyonlarca dolar dolandırdığı gerekçesiyle tutuklanan banka müdürü Seçil Erzan'ın memleketi Tekirdağ'ın Çorlu ilçesinde, olaya ilişkin gelişmeler sürüyor. Soruşturma kapsamında Er... Gündem  Son Güncelleme:4 Aralık 2023 14:30 \n",
      "  Maraş tarhanası ve Edremit Körfezi yeşil çizik zeytinine, AB Coğrafi İşaret TesciliBakanlıktan yapılan açıklamada, 3 ay önce AB Resmi Gazetesi'nde yayımlanan Maraş tarhanası ve Edremit Körfezi yeşil çizik zeytininin, itiraz süreçlerinin sona ermesinin ardından AB Coğrafi İşaret Tescili'ne hak kazandığı belirtildi. Yüksek ... Gündem  Son Güncelleme:4 Aralık 2023 14:30 \n",
      "  Kadıköy’de güvenlik önlemi almadan çalışan işçi kameradaOlay Söğütlüçeşme Caddesi’ndeki 6 katlı bir binada yaşandı. Bir işçi binanın en üst katındaki dairenin dış cephesine hiçbir güvenlik önlemi almadan çıktı. Metrelerce yükseklikte tehlikeye aldırış etmeyen işçi klima tamiri yaptı. Dairenin iç... Gündem  Son Güncelleme:4 Aralık 2023 11:45 \n",
      "  Sarıyer’de güzellik merkezine silahlı saldırının nedeni ‘ruhsat parası’ çıktı İlgili Haber  Sarıyer'de güzellik merkezine silahlı saldırı Olay 1 Aralık Cuma günü Tarabya Mahallesi Tarabya Bayırı Caddesi üzerinde bulunan ve güzellik merkezinde meydana geldi. İddiaya göre, A.Ç. yeni açılan güzellik merkezine ... Gündem  Son Güncelleme:4 Aralık 2023 11:45 \n",
      "  Fatih Sultan Mehmet Köprüsü çıkışında otomobil alev alev yandıYangın, saat 21.30 sıralarında Fatih Sultan Mehmet Köprüsü (FSM) çıkışında Ankara istikametinde meydana geldi. Otomobilin motor kısmından dumanların çıktığını gören sürücü, emniyet şeridine girerek otomobilden indi. Otomobilin motor kısmınd... Gündem  Son Güncelleme:4 Aralık 2023 11:00 \n",
      "  Kadıköy’de trafik magandasına cezaKadıköy'de D-100 Karayolu Göztepe mevkiinde makas atarak ilerleyen sürücü, görüntülerin sosyal medyada paylaşılmasının ardından polis ekipleri tarafından yapılan çalışma sonucunda yakalandı. A.T.'ye, \"Makas atmak\" maddesinden 4 bin 64 lira,... Gündem  Son Güncelleme:4 Aralık 2023 11:00 \n",
      "  Sağlık Bakanlığı, 419 eski hükümlü ve TMY statüsünde işçi alımı yapacakResmi Gazete’de yayımlanan ilana göre, Sağlık Bakanlığı temizlik görevlisi olarak istihdam edilmek üzere 419 Eski Hükümlü ve TMY statüsünde sürekli işçi alımı gerçekleştirecek. İlanda, adayların esube.iskur.gov.tr adresi üzerinden 4-8 Aralı... Gündem  Son Güncelleme:4 Aralık 2023 11:00 \n"
     ]
    }
   ],
   "source": [
    "\n",
    "stories = soup.find_all('article', {'class':'col-12'})\n",
    "for stor in stories:\n",
    "  print(stor.text)"
   ]
  },
  {
   "cell_type": "code",
   "execution_count": 48,
   "metadata": {},
   "outputs": [
    {
     "name": "stdout",
     "output_type": "stream",
     "text": [
      "https://turkishnetworktimes.com/eski-diyanet-isleri-baskani-lutfi-dogan-hayatini-kaybetti/\n",
      "https://turkishnetworktimes.com/eminonunde-is-yeri-alev-alev-yandi/\n",
      "https://turkishnetworktimes.com/msb-5-pkkli-terorist-etkisiz-hale-getirildi/\n",
      "https://turkishnetworktimes.com/secil-erzanin-ifadelerinde-adi-gecen-meclis-uyesi-gorevinden-ve-partisinden-istifa-etti/\n",
      "https://turkishnetworktimes.com/maras-tarhanasi-ve-edremit-korfezi-yesil-cizik-zeytinine-ab-cografi-isaret-tescili/\n",
      "https://turkishnetworktimes.com/kadikoyde-guvenlik-onlemi-almadan-calisan-isci-kamerada/\n",
      "https://turkishnetworktimes.com/sariyerde-guzellik-merkezine-silahli-saldirinin-nedeni-ruhsat-parasi-cikti/\n",
      "https://turkishnetworktimes.com/fatih-sultan-mehmet-koprusu-cikisinda-otomobil-alev-alev-yandi/\n",
      "https://turkishnetworktimes.com/kadikoyde-trafik-magandasina-ceza/\n",
      "https://turkishnetworktimes.com/saglik-bakanligi-419-eski-hukumlu-ve-tmy-statusunde-isci-alimi-yapacak/\n"
     ]
    }
   ],
   "source": [
    "for story in stories:\n",
    "    each_story = []\n",
    "\n",
    "    kategori_box=story.find('span', class_='catalani')\n",
    "    #print(kategori_box.text)\n",
    "\n",
    "    try:\n",
    "        update_date=story.find('span',class_='tarih').text\n",
    "        #print(update_date)\n",
    "        header=story.find('h2',class_='haber-baslik').text\n",
    "        #print(header)\n",
    "        summary=story.find('div',class_='haber-desc').text\n",
    "        #print(summary)\n",
    "        \n",
    "    except:\n",
    "        continue\n",
    "\n",
    "    story_url = story.find('a', class_='post-link')['href']\n",
    "    print(story_url)\n",
    "\n",
    "    \n",
    "\n",
    "\n",
    "\n"
   ]
  },
  {
   "cell_type": "code",
   "execution_count": 50,
   "metadata": {},
   "outputs": [
    {
     "name": "stdout",
     "output_type": "stream",
     "text": [
      "   Şırnak’ta 75 yaşındaki hasta, ambulans helikopterle sevk edildi \n"
     ]
    },
    {
     "data": {
      "text/plain": [
       "[]"
      ]
     },
     "execution_count": 50,
     "metadata": {},
     "output_type": "execute_result"
    }
   ],
   "source": [
    "story_page=requests.get(story_url)\n",
    "story_soup=bs(story_page.text, 'html.parser')\n",
    "\n",
    "\n",
    "\n",
    "sections=story_soup.find('div',class_='haber-post').text\n",
    "print(sections)\n",
    "story_text=[]\n",
    "story_titles=[]\n",
    "story_text"
   ]
  },
  {
   "cell_type": "code",
   "execution_count": 36,
   "metadata": {},
   "outputs": [
    {
     "name": "stdout",
     "output_type": "stream",
     "text": [
      "0\n"
     ]
    }
   ],
   "source": [
    "for section in sections:\n",
    "    paragraphs = section.find_all('p')\n",
    "    for paragraph in paragraphs:\n",
    "        story_text.append(paragraph.text)\n",
    "\n",
    "    subs = section.find_all('haber-baslik')\n",
    "    for sub in subs:\n",
    "        story_titles.append(sub.text)\n",
    "\n",
    "number_sections = len(story_titles)\n",
    "number_paragraphs = len(story_text)\n",
    "print(number_sections)"
   ]
  },
  {
   "cell_type": "code",
   "execution_count": 37,
   "metadata": {},
   "outputs": [],
   "source": [
    "each_story.append(kategori_box)\n",
    "each_story.append(header)\n",
    "each_story.append(summary)\n",
    "each_story.append(update_date)\n",
    "each_story.append(story_url)\n",
    "each_story.append(number_sections)\n",
    "each_story.append(story_titles)\n",
    "each_story.append(number_paragraphs)\n",
    "each_story.append(story_text)\n",
    "#each_story.append(author_url)\n",
    "\n",
    "stories_data.append(each_story)"
   ]
  },
  {
   "cell_type": "code",
   "execution_count": 38,
   "metadata": {},
   "outputs": [],
   "source": [
    "columns = ['kategori_box', 'header', 'summary', 'update_date', 'story_url', \n",
    "           'number_sections', 'story_titles', 'number_paragraphs', \n",
    "           \n",
    "           'story_text']\n",
    "\n",
    "df = pd.DataFrame(stories_data, columns=columns)\n",
    "df.to_csv('3.csv', sep='\\t', index=False)"
   ]
  }
 ],
 "metadata": {
  "kernelspec": {
   "display_name": "base",
   "language": "python",
   "name": "python3"
  },
  "language_info": {
   "name": "python",
   "version": "3.9.13"
  }
 },
 "nbformat": 4,
 "nbformat_minor": 2
}
