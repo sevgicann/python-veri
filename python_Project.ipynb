{
 "cells": [
  {
   "cell_type": "code",
   "execution_count": 29,
   "metadata": {},
   "outputs": [],
   "source": [
    "from bs4 import BeautifulSoup as soup\n",
    "import requests"
   ]
  },
  {
   "cell_type": "code",
   "execution_count": 30,
   "metadata": {},
   "outputs": [],
   "source": [
    "url=\"https://turkishnetworktimes.com/kategori/gundem/\"\n"
   ]
  },
  {
   "cell_type": "code",
   "execution_count": 31,
   "metadata": {},
   "outputs": [],
   "source": [
    "html=requests.get(url)"
   ]
  },
  {
   "cell_type": "code",
   "execution_count": 32,
   "metadata": {},
   "outputs": [],
   "source": [
    "bsobj=soup(html.content,'lxml')\n"
   ]
  },
  {
   "cell_type": "code",
   "execution_count": 33,
   "metadata": {},
   "outputs": [],
   "source": [
    "r=requests.get(\"https://turkishnetworktimes.com/kategori/gundem/\")"
   ]
  },
  {
   "cell_type": "code",
   "execution_count": 34,
   "metadata": {},
   "outputs": [],
   "source": [
    "b=soup(r.content,'lxml')\n"
   ]
  },
  {
   "cell_type": "code",
   "execution_count": 35,
   "metadata": {},
   "outputs": [],
   "source": [
    "header=[]\n",
    "for news in b.findAll(['h2', 'strong']):\n",
    "  \n",
    "  #print(news.text)\n",
    "  header.append(news.text)\n"
   ]
  },
  {
   "cell_type": "code",
   "execution_count": 36,
   "metadata": {},
   "outputs": [],
   "source": [
    "url=[]\n",
    "for news in b.findAll('a',{'class':'post-link'}):\n",
    "    url.append(news['href'])\n"
   ]
  },
  {
   "cell_type": "code",
   "execution_count": 37,
   "metadata": {},
   "outputs": [],
   "source": [
    "summary=[]\n",
    "\n",
    "for news in b.findAll('div',{'class':'haber-desc'}):\n",
    "  \n",
    "  #print(news.text)\n",
    "  summary.append(news.text)\n"
   ]
  },
  {
   "cell_type": "code",
   "execution_count": 38,
   "metadata": {},
   "outputs": [],
   "source": [
    "img_url_list=[]\n",
    "for news in b.findAll('img',{'class':'wp-post-image'}):\n",
    "    img_url_list.append(news['src'])\n"
   ]
  },
  {
   "cell_type": "code",
   "execution_count": 39,
   "metadata": {},
   "outputs": [],
   "source": [
    "text=[]\n",
    "for link in url:\n",
    "    page=requests.get(link)\n",
    "    bsobj=soup(page.content)\n",
    "    for news in bsobj.findAll('div',{'class':'yazi_icerik'}):\n",
    "        text.append(news.text.strip())\n"
   ]
  },
  {
   "cell_type": "code",
   "execution_count": 40,
   "metadata": {},
   "outputs": [],
   "source": [
    "publish_date=[]\n",
    "for link in url:\n",
    "    page=requests.get(link)\n",
    "    bsobj=soup(page.content)\n",
    "    for news in bsobj.findAll('span',{'class':'tarih'}):\n",
    "        if 'Yayınlanma:' in news.get_text():\n",
    "             \n",
    "         publish_date.append(news.text.strip())\n"
   ]
  },
  {
   "cell_type": "code",
   "execution_count": 41,
   "metadata": {},
   "outputs": [],
   "source": [
    "update_date=[]\n",
    "for link in url:\n",
    "    page=requests.get(link)\n",
    "    bsobj=soup(page.content)\n",
    "    for news in bsobj.findAll('span',{'class':'tarih'}):\n",
    "        if 'Güncelleme:' in news.get_text():\n",
    "             \n",
    "         update_date.append(news.text.strip())\n"
   ]
  },
  {
   "cell_type": "code",
   "execution_count": 42,
   "metadata": {},
   "outputs": [
    {
     "name": "stdout",
     "output_type": "stream",
     "text": [
      "gundem_veriler.csv adlı CSV dosyası oluşturuldu.\n"
     ]
    }
   ],
   "source": [
    "import csv\n",
    "\n",
    "\n",
    "\n",
    "# CSV dosyası adı ve yazma modu\n",
    "file_name = \"gundem_veriler.csv\"\n",
    "\n",
    "# Veri başlıkları\n",
    "column_names = ['URL', 'Header', 'Summary', 'Text', 'Img URL', 'Publish Date','Update Date']\n",
    "\n",
    "# Verileri birleştirme\n",
    "combined_data = zip(url, header, summary, text, img_url_list, publish_date, update_date)\n",
    "\n",
    "# CSV dosyasına yazma\n",
    "with open(file_name, mode='w', newline='', encoding='utf-8') as file:\n",
    "    writer = csv.writer(file)\n",
    "    \n",
    "    # Başlık satırını yazma\n",
    "    writer.writerow(column_names)\n",
    "\n",
    "    # Her bir satırı CSV dosyasına yazma\n",
    "    for row in combined_data:\n",
    "        writer.writerow(row)\n",
    "\n",
    "print(f\"{file_name} adlı CSV dosyası oluşturuldu.\")"
   ]
  },
  {
   "cell_type": "code",
   "execution_count": 43,
   "metadata": {},
   "outputs": [
    {
     "data": {
      "image/png": "[encoded data removed]",
      "text/plain": [
       "<Figure size 1000x600 with 1 Axes>"
      ]
     },
     "metadata": {},
     "output_type": "display_data"
    }
   ],
   "source": [
    "from collections import Counter\n",
    "from matplotlib import pyplot as plt\n",
    "\n",
    "# text listesindeki metinleri birleştirme\n",
    "all_text = ' '.join(text)\n",
    "\n",
    "# Kelimeleri ayıklama ve küçük harfe dönüştürme\n",
    "words = all_text.lower().split()\n",
    "\n",
    "# Kelime frekanslarını hesaplama\n",
    "word_freq = Counter(words)\n",
    "\n",
    "# En çok kullanılan 10 kelimeyi bulma\n",
    "top_words = word_freq.most_common(10)\n",
    "top_words, word_freq\n",
    "\n",
    "# Grafiği oluşturma\n",
    "top_word, freq = zip(*top_words)\n",
    "plt.figure(figsize=(10, 6))\n",
    "plt.bar(top_word, freq, color='skyblue')\n",
    "plt.title('En Çok Kullanılan Kelimelerin Frekansı')\n",
    "plt.xlabel('Kelimeler')\n",
    "plt.ylabel('Frekans')\n",
    "plt.xticks(rotation=45)\n",
    "plt.tight_layout()\n",
    "plt.show()"
   ]
  }
 ],
 "metadata": {
  "kernelspec": {
   "display_name": "base",
   "language": "python",
   "name": "python3"
  },
  "language_info": {
   "codemirror_mode": {
    "name": "ipython",
    "version": 3
   },
   "file_extension": ".py",
   "mimetype": "text/x-python",
   "name": "python",
   "nbconvert_exporter": "python",
   "pygments_lexer": "ipython3",
   "version": "3.9.13"
  }
 },
 "nbformat": 4,
 "nbformat_minor": 2
}
